{
 "cells": [
  {
   "cell_type": "code",
   "execution_count": 1,
   "metadata": {},
   "outputs": [],
   "source": [
    "\n",
    "# ╔═╡ 369583c9-fa85-4d43-bd2d-acc214e42e41\n",
    "using Flux: Dense\n",
    "\n",
    "# ╔═╡ 5d730a8d-1d38-407d-a1f2-2bfce9f38d00\n",
    "using Flux: Descent\n",
    "\n",
    "# ╔═╡ e7f652d5-81a6-4dd7-830f-e6faa9fc0a7b\n",
    "using Flux: train!\n",
    "\n",
    "# ╔═╡ 7d5e67ae-f2a1-4d24-be77-cfa23c206a13\n",
    "using Flux: Losses\n",
    "\n",
    "# ╔═╡ 6ebb5179-625c-43c0-92d4-0bfbe3951c6a\n",
    "using Flux: params"
   ]
  },
  {
   "cell_type": "code",
   "execution_count": 4,
   "metadata": {},
   "outputs": [
    {
     "data": {
      "text/plain": [
       "50-element Vector{Float64}:\n",
       "  158.88099785478198\n",
       "  213.84418122020827\n",
       "  269.26548366873413\n",
       "  194.94904084262726\n",
       "  260.3013570923002\n",
       "  253.81625472249848\n",
       "  389.68747296053107\n",
       "  357.04864994490464\n",
       "  356.8683699601755\n",
       "  421.8408571964797\n",
       "  388.17289812260117\n",
       "  399.28180384450536\n",
       "  466.6368067848945\n",
       "    ⋮\n",
       " 1104.178362555991\n",
       " 1118.840450910046\n",
       " 1152.3018017369834\n",
       " 1184.6083132763263\n",
       " 1228.2087006268498\n",
       " 1207.1877530984557\n",
       " 1291.3912265679728\n",
       " 1284.008555367248\n",
       " 1320.499483333849\n",
       " 1363.138552397248\n",
       " 1442.1949031437673\n",
       " 1299.899626140299"
      ]
     },
     "execution_count": 4,
     "metadata": {},
     "output_type": "execute_result"
    }
   ],
   "source": [
    "\n",
    "# ╔═╡ c36111d6-083f-4a11-8147-e41ba0dba146\n",
    "batches = rand(5)\n",
    "\n",
    "# ╔═╡ 6ebc7672-c3f2-48fc-a367-0a3e0630a75e\n",
    "lengthLine = 50\n",
    "\n",
    "# ╔═╡ faaf05ba-5c63-4170-b102-e5b6145f034b\n",
    "target_a =25\n",
    "\n",
    "# ╔═╡ db42b151-a980-4b9a-bc1c-d766ac3c8bf6\n",
    "target_b =150\n",
    "# ╔═╡ e2662a5c-be71-4ab0-a9f1-3dbcfaddbdcb\n",
    "noiseFac =40\n",
    "\n",
    "xVec = 1:lengthLine\n",
    "\n",
    "fVec(x,a,b) = x.*a .+b\n",
    "# ╔═╡ 3f7d6c8a-8b6a-4861-bb5f-a31fc23dc626\n",
    "\n",
    "line = fVec(xVec,target_a,target_b)\n",
    "\n",
    "noisyLine = line .+ randn(length(line))*noiseFac\n",
    "\n"
   ]
  },
  {
   "cell_type": "code",
   "execution_count": 5,
   "metadata": {},
   "outputs": [
    {
     "ename": "LoadError",
     "evalue": "MethodError: no method matching mse(::Matrix{Float32})\n\u001b[0mClosest candidates are:\n\u001b[0m  mse(::Any, \u001b[91m::Any\u001b[39m; agg) at /Users/user/.julia/packages/Flux/ZnXxS/src/losses/functions.jl:45",
     "output_type": "error",
     "traceback": [
      "MethodError: no method matching mse(::Matrix{Float32})\n\u001b[0mClosest candidates are:\n\u001b[0m  mse(::Any, \u001b[91m::Any\u001b[39m; agg) at /Users/user/.julia/packages/Flux/ZnXxS/src/losses/functions.jl:45",
      "",
      "Stacktrace:",
      " [1] top-level scope",
      "   @ In[5]:8",
      " [2] eval",
      "   @ ./boot.jl:360 [inlined]",
      " [3] include_string(mapexpr::typeof(REPL.softscope), mod::Module, code::String, filename::String)",
      "   @ Base ./loading.jl:1116"
     ]
    }
   ],
   "source": [
    "m = Dense(1,1)\n",
    "\n",
    "m(reshape(xVec,(1,:)))\n",
    "\n",
    "opt = Descent(0.01)\n",
    "\n",
    "xTrain = reshape(xVec,(1,:))\n",
    "train!(Losses.Flux.mse(m(xTrain)),params(m), [(xTrain, line)],opt)"
   ]
  },
  {
   "cell_type": "code",
   "execution_count": 8,
   "metadata": {},
   "outputs": [
    {
     "ename": "LoadError",
     "evalue": "MethodError: no method matching fVec(::Base.ReshapedArray{Int64, 2, UnitRange{Int64}, Tuple{}})\n\u001b[0mClosest candidates are:\n\u001b[0m  fVec(::Any, \u001b[91m::Any\u001b[39m, \u001b[91m::Any\u001b[39m) at In[4]:18",
     "output_type": "error",
     "traceback": [
      "MethodError: no method matching fVec(::Base.ReshapedArray{Int64, 2, UnitRange{Int64}, Tuple{}})\n\u001b[0mClosest candidates are:\n\u001b[0m  fVec(::Any, \u001b[91m::Any\u001b[39m, \u001b[91m::Any\u001b[39m) at In[4]:18",
      "",
      "Stacktrace:",
      " [1] top-level scope",
      "   @ In[8]:1",
      " [2] eval",
      "   @ ./boot.jl:360 [inlined]",
      " [3] include_string(mapexpr::typeof(REPL.softscope), mod::Module, code::String, filename::String)",
      "   @ Base ./loading.jl:1116"
     ]
    }
   ],
   "source": [
    "fVec(xTrain)"
   ]
  },
  {
   "cell_type": "code",
   "execution_count": 7,
   "metadata": {},
   "outputs": [
    {
     "ename": "LoadError",
     "evalue": "MethodError: no method matching fVec(::Base.ReshapedArray{Int64, 2, UnitRange{Int64}, Tuple{}})\n\u001b[0mClosest candidates are:\n\u001b[0m  fVec(::Any, \u001b[91m::Any\u001b[39m, \u001b[91m::Any\u001b[39m) at In[4]:18",
     "output_type": "error",
     "traceback": [
      "MethodError: no method matching fVec(::Base.ReshapedArray{Int64, 2, UnitRange{Int64}, Tuple{}})\n\u001b[0mClosest candidates are:\n\u001b[0m  fVec(::Any, \u001b[91m::Any\u001b[39m, \u001b[91m::Any\u001b[39m) at In[4]:18",
      "",
      "Stacktrace:",
      " [1] top-level scope",
      "   @ In[7]:2",
      " [2] eval",
      "   @ ./boot.jl:360 [inlined]",
      " [3] include_string(mapexpr::typeof(REPL.softscope), mod::Module, code::String, filename::String)",
      "   @ Base ./loading.jl:1116"
     ]
    }
   ],
   "source": [
    "\n",
    "Losses.Flux.mse(m(xTrain),fVec(xTrain))"
   ]
  },
  {
   "cell_type": "code",
   "execution_count": null,
   "metadata": {},
   "outputs": [],
   "source": []
  }
 ],
 "metadata": {
  "kernelspec": {
   "display_name": "Julia 1.6.2",
   "language": "julia",
   "name": "julia-1.6"
  },
  "language_info": {
   "file_extension": ".jl",
   "mimetype": "application/julia",
   "name": "julia",
   "version": "1.6.2"
  }
 },
 "nbformat": 4,
 "nbformat_minor": 2
}
